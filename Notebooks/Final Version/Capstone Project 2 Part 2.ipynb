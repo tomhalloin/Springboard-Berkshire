{
 "cells": [
  {
   "cell_type": "markdown",
   "metadata": {
    "ExecuteTime": {
     "end_time": "2019-12-12T02:18:19.457789Z",
     "start_time": "2019-12-12T02:18:19.452803Z"
    }
   },
   "source": [
    "Tom Halloin <br> Springboard Data Science Career Track <br>"
   ]
  },
  {
   "cell_type": "markdown",
   "metadata": {
    "ExecuteTime": {
     "end_time": "2019-12-12T02:18:00.191163Z",
     "start_time": "2019-12-12T02:18:00.178197Z"
    }
   },
   "source": [
    "<h1 align=\"center\">Capstone Project 2: Analysis of Berkshire Hathaway Shareholder Letters Using Natural Language Processing (NLP) Techniques</h1>"
   ]
  },
  {
   "cell_type": "markdown",
   "metadata": {},
   "source": [
    "<h3 align='center'> Part 2: Cleaning Letters for Human Consumption</h3> <br>"
   ]
  },
  {
   "cell_type": "markdown",
   "metadata": {},
   "source": [
    "<h4> We are going to start with a sample of the data to illustrate the cleaning process, then apply the cleaning process throughout the rest of the documents.</h4>"
   ]
  },
  {
   "cell_type": "code",
   "execution_count": 1,
   "metadata": {
    "ExecuteTime": {
     "end_time": "2020-02-22T19:20:55.972188Z",
     "start_time": "2020-02-22T19:20:55.845501Z"
    }
   },
   "outputs": [],
   "source": [
    "import html\n",
    "import os # file movements later on\n",
    "import re # regular expressions\n",
    "from bs4 import BeautifulSoup"
   ]
  },
  {
   "cell_type": "code",
   "execution_count": 2,
   "metadata": {
    "ExecuteTime": {
     "end_time": "2020-02-22T19:20:55.995310Z",
     "start_time": "2020-02-22T19:20:55.972188Z"
    }
   },
   "outputs": [
    {
     "name": "stdout",
     "output_type": "stream",
     "text": [
      "<!-- Global site tag (gtag.js) - Google Analytics -->\n",
      "<script async src=\"https://www.googletagmanager.com/gtag/js?id=UA-136883390-1\"></script>\n",
      "<script>\n",
      "  window.dataLayer = window.dataLayer || [];\n",
      "  function gtag(){dataLayer.push(arguments);}\n",
      "  gtag('js', new Date());\n",
      "\n",
      "  gtag('config', 'UA-136883390-1');\n",
      "</script>\n",
      "<HTML>\n",
      "<HEAD>\n",
      "  <TITLE>Chairman's Letter - 1977</TITLE>\n",
      "</HEAD>\n",
      "<BODY>\n",
      "<P ALIGN=CENTER>\n",
      "<B>BERKSHIRE HATHAWAY INC.</B>\n",
      "</P>\n",
      "<PRE>\n",
      "\n",
      "<I>To the Stockholders of Berkshire Hathaway Inc.:</I>\n",
      "\n",
      "     Operating earnings in 1977 of $21,904,000, or $22.54 per \n",
      "share, were moderately better than anticipated a year ago.  Of \n",
      "these earnings, $1.43 per share resulted from substantial \n",
      "realized capital gains by Blue Chip Stamps which, to the extent \n",
      "of our proportional interest in that company, are included in our \n",
      "operating earnings figure.  Capital gains or losses realized \n",
      "directly by Berkshire Hathaway Inc. or its insurance subsidiaries \n",
      "are not included in our calculation of operating earnings.  While \n",
      "too much attention should not be paid to the figure for any \n",
      "single year, over the longer term the record regarding aggregate \n",
      "capital gains or losses obviously is of significance.\n",
      "\n",
      " \n"
     ]
    }
   ],
   "source": [
    "with open(f'../raw_letters/1977_letter.txt', 'r', encoding='utf-8', errors='replace') as infile:\n",
    "    text = infile.readlines()\n",
    "    letter = \"\".join(text)\n",
    "\n",
    "sampletext = letter[0:1200]\n",
    "print(sampletext)"
   ]
  },
  {
   "cell_type": "markdown",
   "metadata": {},
   "source": [
    "<h4>Some of the earlier letters are not encoded in UTF-8 form because of some HTML characters. The code below fixes that for consistent encoding for all of the documents.</h4>"
   ]
  },
  {
   "cell_type": "code",
   "execution_count": 3,
   "metadata": {
    "ExecuteTime": {
     "end_time": "2020-02-22T19:20:56.005283Z",
     "start_time": "2020-02-22T19:20:55.998302Z"
    }
   },
   "outputs": [],
   "source": [
    "def html_decode(words):\n",
    "    \n",
    "    decoded_review = html.unescape(words)\n",
    "    decoded_review\n",
    "    return(words)\n",
    "\n",
    "sampletext = html_decode(sampletext)"
   ]
  },
  {
   "cell_type": "markdown",
   "metadata": {
    "ExecuteTime": {
     "end_time": "2019-12-12T02:35:23.361882Z",
     "start_time": "2019-12-12T02:35:23.355899Z"
    }
   },
   "source": [
    "<h4>The following removes much of the HTML characters from the scraping process.</h4>"
   ]
  },
  {
   "cell_type": "code",
   "execution_count": 4,
   "metadata": {
    "ExecuteTime": {
     "end_time": "2020-02-22T19:20:56.017251Z",
     "start_time": "2020-02-22T19:20:56.007280Z"
    }
   },
   "outputs": [
    {
     "name": "stdout",
     "output_type": "stream",
     "text": [
      "\n",
      "\n",
      "\n",
      "  window.dataLayer = window.dataLayer || [];\n",
      "  function gtag(){dataLayer.push(arguments);}\n",
      "  gtag('js', new Date());\n",
      "\n",
      "  gtag('config', 'UA-136883390-1');\n",
      "\n",
      "\n",
      "\n",
      "  Chairman's Letter - 1977\n",
      "\n",
      "\n",
      "\n",
      "BERKSHIRE HATHAWAY INC.\n",
      "\n",
      "\n",
      "\n",
      "To the Stockholders of Berkshire Hathaway Inc.:\n",
      "\n",
      "     Operating earnings in 1977 of $21,904,000, or $22.54 per \n",
      "share, were moderately better than anticipated a year ago.  Of \n",
      "these earnings, $1.43 per share resulted from substantial \n",
      "realized capital gains by Blue Chip Stamps which, to the extent \n",
      "of our proportional interest in that company, are included in our \n",
      "operating earnings figure.  Capital gains or losses realized \n",
      "directly by Berkshire Hathaway Inc. or its insurance subsidiaries \n",
      "are not included in our calculation of operating earnings.  While \n",
      "too much attention should not be paid to the figure for any \n",
      "single year, over the longer term the record regarding aggregate \n",
      "capital gains or losses obviously is of significance.\n",
      "\n",
      " \n"
     ]
    }
   ],
   "source": [
    "def cleanhtml(words):\n",
    "    \"\"\"Removes HTML tags\"\"\"\n",
    "    pattern = re.compile('<.*?>')\n",
    "    cleantext = re.sub(pattern, '', words)\n",
    "    return cleantext\n",
    "\n",
    "sampletext = cleanhtml(sampletext)\n",
    "print(sampletext)"
   ]
  },
  {
   "cell_type": "markdown",
   "metadata": {},
   "source": [
    "<h4>The following replaces newlines and tab characters.</h4>"
   ]
  },
  {
   "cell_type": "code",
   "execution_count": 5,
   "metadata": {
    "ExecuteTime": {
     "end_time": "2020-02-22T19:20:56.030221Z",
     "start_time": "2020-02-22T19:20:56.019246Z"
    }
   },
   "outputs": [
    {
     "name": "stdout",
     "output_type": "stream",
     "text": [
      "  window.dataLayer = window.dataLayer || [];  function gtag(){dataLayer.push(arguments);}  gtag('js', new Date());  gtag('config', 'UA-136883390-1');  Chairman's Letter - 1977BERKSHIRE HATHAWAY INC.To the Stockholders of Berkshire Hathaway Inc.:     Operating earnings in 1977 of $21,904,000, or $22.54 per share, were moderately better than anticipated a year ago.  Of these earnings, $1.43 per share resulted from substantial realized capital gains by Blue Chip Stamps which, to the extent of our proportional interest in that company, are included in our operating earnings figure.  Capital gains or losses realized directly by Berkshire Hathaway Inc. or its insurance subsidiaries are not included in our calculation of operating earnings.  While too much attention should not be paid to the figure for any single year, over the longer term the record regarding aggregate capital gains or losses obviously is of significance. \n"
     ]
    }
   ],
   "source": [
    "def replace_newlines(words):\n",
    "    \"\"\"Replaces newlines\"\"\"\n",
    "    words = words.replace('\\n', '')\n",
    "    words = words.replace('\\\\n', ' ')\n",
    "    words = words.replace('\\\\t', '') # tab character\n",
    "    \n",
    "    return words\n",
    "\n",
    "sampletext = replace_newlines(sampletext)\n",
    "print(sampletext)"
   ]
  },
  {
   "cell_type": "markdown",
   "metadata": {},
   "source": [
    "<h4>Removing all text between 'To the Shareholders of Berkshire Hathaway' and after Buffett's salutation.</h4>"
   ]
  },
  {
   "cell_type": "code",
   "execution_count": 6,
   "metadata": {
    "ExecuteTime": {
     "end_time": "2020-02-22T19:20:56.047170Z",
     "start_time": "2020-02-22T19:20:56.036205Z"
    }
   },
   "outputs": [
    {
     "name": "stdout",
     "output_type": "stream",
     "text": [
      "To the Stockholders of Berkshire Hathaway Inc.:     Operating earnings in 1977 of $21,904,000, or $22.54 per share, were moderately better than anticipated a year ago.  Of these earnings, $1.43 per share resulted from substantial realized capital gains by Blue Chip Stamps which, to the extent of our proportional interest in that company, are included in our operating earnings figure.  Capital gains or losses realized directly by Berkshire Hathaway Inc. or its insurance subsidiaries are not included in our calculation of operating earnings.  While too much attention should not be paid to the figure for any single year, over the longer term the record regarding aggregate capital gains or losses obviously is of significance.\n"
     ]
    }
   ],
   "source": [
    "def remove_beginning_end(words):\n",
    "    \"\"\"Removes content before and after the letter starts.\"\"\"\n",
    "    \n",
    "    beginning_string = 'To the Stockholders of Berkshire Hathaway Inc.:'\n",
    "    beginning_string_shareholders = 'To the Shareholders of Berkshire Hathaway Inc.:'\n",
    "    end_string = 'Warren E. Buffett, Chairman'\n",
    "    beginning_index = words.find(beginning_string)\n",
    "\n",
    "    # There are some letters where Buffett addresses the letters as \"shareholders\". This corrects that problem.\n",
    "\n",
    "    if beginning_index == -1:\n",
    "        beginning_index = words.find(\n",
    "            'To the Shareholders of Berkshire Hathaway Inc.:')\n",
    "\n",
    "    end_index = words.find(end_string)\n",
    "    words = words[beginning_index:end_index]\n",
    "    return(words)\n",
    "\n",
    "sampletext = remove_beginning_end(sampletext)\n",
    "print(sampletext)"
   ]
  },
  {
   "cell_type": "markdown",
   "metadata": {
    "ExecuteTime": {
     "end_time": "2019-12-12T02:32:53.157491Z",
     "start_time": "2019-12-12T02:32:53.150513Z"
    }
   },
   "source": [
    " <h4>Some of the tables have an excessive number of dots, dashes, and equals. This function fixes that problem.</h4>\n"
   ]
  },
  {
   "cell_type": "code",
   "execution_count": 11,
   "metadata": {
    "ExecuteTime": {
     "end_time": "2020-02-22T19:23:59.781644Z",
     "start_time": "2020-02-22T19:23:59.775660Z"
    }
   },
   "outputs": [],
   "source": [
    "def remove_dots_dashes_equals(words):\n",
    "    \"\"\"Removes dots, dashes, equal signs, and more. This cleans up the tables for machine consumption.\"\"\"\n",
    "    \n",
    "    pattern = re.compile('[-=.]{2,}') # Consecutive dots, dashes, and equals signs.\n",
    "    pattern2 = re.compile('(\\. ){2,}') # Multiple periods in a row.\n",
    "    pattern3 = re.compile('(\\d+ +\\', \\'\\d+\\': b\\')') # Dictionary page numbers\n",
    "    words = re.sub(pattern, ' ', words)\n",
    "    words = re.sub(pattern2, ' ', words)\n",
    "    words = re.sub(pattern3, '', words)\n",
    "    words = re.sub('\\*', '', words) # * character\n",
    "    words = re.sub('\\\\\\'', '', words) # backslash before apostrophes\n",
    "    words = re.sub('amp;', '', words) # ampersand\n",
    "    words = re.sub(r'(\\\\x(.){2})', '', words) # Non-ascii characters\n",
    "    return words"
   ]
  },
  {
   "cell_type": "markdown",
   "metadata": {},
   "source": [
    "<h4>Summary output of what we have so far.</h4>\n"
   ]
  },
  {
   "cell_type": "code",
   "execution_count": 8,
   "metadata": {
    "ExecuteTime": {
     "end_time": "2020-02-22T19:20:56.076096Z",
     "start_time": "2020-02-22T19:20:56.067118Z"
    }
   },
   "outputs": [],
   "source": [
    "\n",
    "def clean_words(words):\n",
    "    '''Function that combines above 5 functions into one.'''\n",
    "    # words = html_decode(words)\n",
    "    words = replace_newlines(words)\n",
    "    words = cleanhtml(words)\n",
    "    words = remove_beginning_end(words)\n",
    "    words = remove_dots_dashes_equals(words)\n",
    "    return words"
   ]
  },
  {
   "cell_type": "code",
   "execution_count": 12,
   "metadata": {
    "ExecuteTime": {
     "end_time": "2020-02-22T19:24:28.350903Z",
     "start_time": "2020-02-22T19:24:28.344920Z"
    }
   },
   "outputs": [],
   "source": [
    "# For our HTML data\n",
    "\n",
    "with open(f'../raw_letters/1977_letter.txt', 'r') as infile:\n",
    "    text = infile.readlines()\n",
    "    words = \"\".join(text)"
   ]
  },
  {
   "cell_type": "code",
   "execution_count": 13,
   "metadata": {
    "ExecuteTime": {
     "end_time": "2020-02-22T19:24:31.825969Z",
     "start_time": "2020-02-22T19:24:31.810966Z"
    }
   },
   "outputs": [],
   "source": [
    "# For our PDF data\n",
    "\n",
    "with open(f'../raw_letters/2018_letter.txt', 'r') as infile:\n",
    "    text = infile.readlines()\n",
    "    words = \"\".join(text)"
   ]
  },
  {
   "cell_type": "markdown",
   "metadata": {},
   "source": [
    "<h4>Make a directory to save the \"cleaned\" letters.</h4>"
   ]
  },
  {
   "cell_type": "code",
   "execution_count": 16,
   "metadata": {
    "ExecuteTime": {
     "end_time": "2020-02-22T19:25:39.253403Z",
     "start_time": "2020-02-22T19:25:38.868307Z"
    }
   },
   "outputs": [],
   "source": [
    "if not os.path.exists('clean_letters'):\n",
    "    os.makedirs('clean_letters')\n",
    "    \n",
    "for year in range(1977, 2020):\n",
    "    with open(f'../raw_letters/{year}_letter.txt', 'r') as infile:\n",
    "        text = infile.readlines()\n",
    "        words = \"\".join(text)\n",
    "        with open(f'../clean_letters/{year}_letter.txt', 'w', encoding='utf-8', errors='replace') as outfile:\n",
    "            outfile.write(clean_words(words))"
   ]
  }
 ],
 "metadata": {
  "kernelspec": {
   "display_name": "Python 3",
   "language": "python",
   "name": "python3"
  },
  "language_info": {
   "codemirror_mode": {
    "name": "ipython",
    "version": 3
   },
   "file_extension": ".py",
   "mimetype": "text/x-python",
   "name": "python",
   "nbconvert_exporter": "python",
   "pygments_lexer": "ipython3",
   "version": "3.7.3"
  }
 },
 "nbformat": 4,
 "nbformat_minor": 2
}
